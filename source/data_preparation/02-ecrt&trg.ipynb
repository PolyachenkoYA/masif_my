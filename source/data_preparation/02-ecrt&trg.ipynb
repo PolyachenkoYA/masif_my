{
 "cells": [
  {
   "cell_type": "code",
   "execution_count": 11,
   "metadata": {},
   "outputs": [],
   "source": [
    "#!/usr/bin/python\n",
    "import sys\n",
    "import os\n",
    "import subprocess as sp\n",
    "import io\n",
    "import networkx as nx\n",
    "from importlib import reload\n",
    "\n",
    "root_path = sp.run(['git', 'rev-parse', '--show-toplevel'], stdout=sp.PIPE).stdout.decode('utf-8')[:-1]\n",
    "sys.path.append(os.path.join(root_path, 'source'))\n",
    "sys.path.append(os.path.join(root_path, 'source', 'matlab_libs'))\n",
    "\n",
    "import my_utils as my\n",
    "from geometry.vertices_graph import vertices_graph\n",
    "from data_preparation.extract_and_triangulate_lib import *\n",
    "\n",
    "class IpyExit(SystemExit):\n",
    "    \"\"\"Exit Exception for IPython.\n",
    "\n",
    "    Exception temporarily redirects stderr to buffer.\n",
    "    \"\"\"\n",
    "    def __init__(self):\n",
    "        # print(\"exiting\")  # optionally print some message to stdout, too\n",
    "        # ... or do other stuff before exit\n",
    "        sys.stderr = io.StringIO()\n",
    "\n",
    "    def __del__(self):\n",
    "        sys.stderr.close()\n",
    "        sys.stderr = sys.__stderr__  # restore from backup"
   ]
  },
  {
   "cell_type": "code",
   "execution_count": 12,
   "metadata": {},
   "outputs": [
    {
     "name": "stdout",
     "output_type": "stream",
     "text": [
      "Removing degenerated triangles\n"
     ]
    },
    {
     "name": "stderr",
     "output_type": "stream",
     "text": [
      "/home/student/anaconda3/envs/py36_masif/lib/python3.6/site-packages/Bio/PDB/Atom.py:205: PDBConstructionWarning: Could not assign element 'O1G' for Atom (name=O1G) with given element 'VS'\n",
      "  warnings.warn(msg, PDBConstructionWarning)\n",
      "/home/student/anaconda3/envs/py36_masif/lib/python3.6/site-packages/Bio/PDB/Atom.py:205: PDBConstructionWarning: Could not assign element 'O2G' for Atom (name=O2G) with given element 'VS'\n",
      "  warnings.warn(msg, PDBConstructionWarning)\n",
      "/home/student/anaconda3/envs/py36_masif/lib/python3.6/site-packages/Bio/PDB/Atom.py:205: PDBConstructionWarning: Could not assign element 'O3G' for Atom (name=O3G) with given element 'VS'\n",
      "  warnings.warn(msg, PDBConstructionWarning)\n"
     ]
    },
    {
     "name": "stdout",
     "output_type": "stream",
     "text": [
      "Removing degenerated triangles\n",
      "data_preparation/01-benchmark_surfaces/1Z0K_uR_1000_A_d2.0.ply written\n",
      "data_preparation/01-benchmark_pdbs/1Z0K_uR_1000_A.pdb written\n"
     ]
    }
   ],
   "source": [
    "args = ['1Z0K_uR_1000.pdb', 'A', '1Z0K_C_36457.pdb', 'A', '2.0']\n",
    "\n",
    "ground_truth_cut_dist = float(args[4]) if len(args) > 4 else 2.0\n",
    "to_reload = (args[5] == '1') if (len(args) > 5) else True\n",
    "u_pdb_filename, u_chain_name, u_pdb_filepath, u_chain_filepath_base, u_chain_filepath = \\\n",
    "    parse_names(args[0:2], tmp_dir=masif_opts[\"tmp_dir\"])\n",
    "\n",
    "if(to_reload):\n",
    "    # Extract chains of interest.\n",
    "    extractPDB(u_pdb_filepath, u_chain_filepath, u_chain_name)\n",
    "\n",
    "# construct the mesh.\n",
    "u_regular_mesh, u_vertex_normals, u_vertices, u_names = \\\n",
    "    msms_wrap(u_chain_filepath)\n",
    "u_vertex_hbond, u_vertex_hphobicity, u_vertex_charges = \\\n",
    "    compute_features(u_chain_filepath_base, u_vertices, u_names, u_regular_mesh)\n",
    "\n",
    "ply_filepath = u_chain_filepath_base + '_d' + str(ground_truth_cut_dist) + '.ply'\n",
    "if 'compute_iface' in masif_opts and masif_opts['compute_iface']:\n",
    "    C_pdb_filename, C_chain_name, C_pdb_filepath, C_chain_filepath_base, C_chain_filepath = \\\n",
    "        parse_names(args[2:4])\n",
    "    \n",
    "    C_regular_mesh, C_vertex_normals, C_vertices, C_names = \\\n",
    "        msms_wrap(C_pdb_filepath)\n",
    "    \n",
    "    #iface = find_iface(C_regular_mesh, u_regular_mesh, ground_truth_cut_dist)\n",
    "    kdt = KDTree(C_regular_mesh.vertices)\n",
    "    d, r = kdt.query(u_regular_mesh.vertices)\n",
    "    d = np.square(d) # Square d, because this is how it was in the pyflann version.\n",
    "    assert(len(d) == len(u_regular_mesh.vertices))\n",
    "    iface_v = np.where(d >= ground_truth_cut_dist)[0]\n",
    "\n",
    "    iface = np.zeros(len(u_regular_mesh.vertices))\n",
    "    iface[iface_v] = 1.0\n",
    "    G, edges = vertices_graph(u_regular_mesh, weighted=False)\n",
    "    \n",
    "    save_ply(ply_filepath, u_regular_mesh.vertices,\\\n",
    "                        u_regular_mesh.faces, normals=u_vertex_normals, charges=u_vertex_charges,\\\n",
    "                        normalize_charges=True, hbond=u_vertex_hbond, hphob=u_vertex_hphobicity,\\\n",
    "                        iface=iface)\n",
    "else:\n",
    "    save_ply(ply_filepath, u_regular_mesh.vertices,\\\n",
    "                        u_regular_mesh.faces, normals=u_vertex_normals, charges=u_vertex_charges,\\\n",
    "                        normalize_charges=True, hbond=u_vertex_hbond, hphob=u_vertex_hphobicity)\n",
    "    \n",
    "copy_tmp2dst(ply_filepath, masif_opts['ply_chain_dir'])\n",
    "copy_tmp2dst(u_chain_filepath, masif_opts['pdb_chain_dir'])"
   ]
  },
  {
   "cell_type": "code",
   "execution_count": 43,
   "metadata": {},
   "outputs": [
    {
     "name": "stdout",
     "output_type": "stream",
     "text": [
      "True\n",
      "False\n",
      "[2561 1538    3 2564 2565    5 1033 1037 2574 2575 3086 1041  533 1559\n",
      " 1047   25   26 1051 2077 3103 1568 2592 2597 1575 1065  555 3117 3119\n",
      "  563 1589 2614 1080 3129 3130 3131   61 3134  574   64 1088  578 2114\n",
      " 1601 2626  582 1089 1605 1099  592 1110 1624  600   90   91 3164 1628\n",
      " 3167 2657 2146 2147 1635  618 2154  621 1647  624  625  628 2164  631\n",
      " 1656 1657 1655 3191 1144 2685 2174 2177  642 1155 2180 3206 1159 1160\n",
      " 2694 2698  139 1680 1169 2194 2707 2708  146 1686 3222 2711 1176  147\n",
      " 2203 2716  660  152 3232 1696  673 1185 1701 1190 1703 1704 2731 1198\n",
      " 1200  689 2224 1715  180 2740 2230 2231 1717 3260 2752 2753 3264  707\n",
      " 2245 2758 3275 2764 2765 1233 2774 1241 1755 2268 3294 1250  738 2279\n",
      " 1769 3305 1771 1260 2287 2297 2810 2811 3324 1277 3326 1791 1280 1796\n",
      "  260 3334 2310  264  267 3340 1804 2831  784  273 3349 1302 1303  792\n",
      " 1817 1304 1305 2844  284  288 2338 2851 1315 1828  293  802 2852  811\n",
      " 3372 2349 2860 1840 3377  309 1845 2871 3383 3386 3387 2876 1852 1855\n",
      " 2879  321  836 2887 2375 1353  841 2893 3406  847  848  337 1362 1364\n",
      " 1877  341  853  345 2907 2401  867  868 1382 1383 1897 2413 2926 1901\n",
      " 3440  371 3444 2933 2423 2424  887 3454 2433  901 3462 2952 1929 2442\n",
      "  909 3469 1423 2445 1933 2447 1427 1428 2453 1944  410 1437 3486  927\n",
      " 1440  929 3490 2467 2980 2471 2983 2985  936 2473 2478 1455  433 1970\n",
      " 2996 1973  438 1974  950  441  948 2487  956 3000  949  448 1473  450\n",
      " 3010  456  457 3022 2000 2003 2004 2006 1496 2009  992  481  482 2018\n",
      " 2530 1504 3046 1001 2538 3051 3053 2546 2547 2550 2551 3070]\n"
     ]
    }
   ],
   "source": [
    "import geometry.vertices_graph\n",
    "geometry.vertices_graph = reload(geometry.vertices_graph)\n",
    "\n",
    "G = geometry.vertices_graph.vertices_graph(u_regular_mesh, weighted=False)\n",
    "N_verts = len(u_regular_mesh.vertices)\n",
    "print(nx.is_connected(G))\n",
    "\n",
    "not_iface_v = []\n",
    "for v in range(N_verts):\n",
    "    if(not v in iface_v):\n",
    "        not_iface_v.append(v)\n",
    "not_iface_v = np.array(not_iface_v)\n",
    "\n",
    "G.remove_nodes_from(not_iface_v)\n",
    "print(nx.is_connected(G))\n",
    "G_comps = [np.array(list(c)) for c in nx.connected_components(G)]\n",
    "t_iface = []\n",
    "for Gc in G_comps:\n",
    "    G_comps_len = len(Gc)\n",
    "    if(G_comps_len > 20):\n",
    "        t_iface.append(Gc)\n",
    "        \n",
    "t_iface = [max(G_comps, key=len)]\n",
    "t_iface = np.concatenate(t_iface)\n",
    "print(t_iface)\n",
    "#print(nx.is_connected(G0))"
   ]
  },
  {
   "cell_type": "code",
   "execution_count": 18,
   "metadata": {},
   "outputs": [],
   "source": [
    "#list(G.nodes(data=True))"
   ]
  },
  {
   "cell_type": "code",
   "execution_count": 13,
   "metadata": {},
   "outputs": [],
   "source": [
    "G0 = G"
   ]
  },
  {
   "cell_type": "code",
   "execution_count": 18,
   "metadata": {},
   "outputs": [
    {
     "data": {
      "text/plain": [
       "array([   3,    5,   14,   18,   25,   26,   42,   43,   45,   61,   64,\n",
       "         79,   90,   91,   95,  128,  134,  139,  143,  146,  147,  152,\n",
       "        155,  170,  180,  187,  191,  199,  204,  205,  219,  228,  231,\n",
       "        232,  236,  239,  245,  248,  260,  264,  266,  267,  273,  280,\n",
       "        282,  284,  288,  292,  293,  307,  308,  309,  312,  318,  321,\n",
       "        323,  325,  333,  334,  336,  337,  339,  341,  343,  345,  349,\n",
       "        357,  363,  364,  371,  381,  384,  392,  408,  409,  410,  424,\n",
       "        433,  437,  438,  441,  448,  450,  452,  454,  456,  457,  460,\n",
       "        472,  479,  481,  482,  484,  488,  495,  496,  509,  513,  525,\n",
       "        527,  528,  533,  548,  554,  555,  557,  563,  567,  571,  573,\n",
       "        574,  577,  578,  582,  583,  584,  592,  600,  604,  606,  612,\n",
       "        618,  620,  621,  624,  625,  626,  627,  628,  631,  635,  638,\n",
       "        640,  642,  649,  658,  659,  660,  668,  673,  685,  689,  696,\n",
       "        698,  707,  709,  712,  713,  719,  727,  728,  737,  738,  741,\n",
       "        742,  743,  746,  755,  757,  759,  773,  778,  784,  792,  797,\n",
       "        801,  802,  804,  808,  811,  813,  824,  832,  836,  841,  847,\n",
       "        848,  850,  853,  861,  865,  866,  867,  868,  873,  885,  887,\n",
       "        891,  897,  901,  909,  912,  922,  927,  929,  931,  932,  936,\n",
       "        948,  949,  950,  954,  956,  962,  963,  971,  986,  992,  998,\n",
       "       1001, 1017, 1024, 1033, 1034, 1036, 1037, 1041, 1047, 1051, 1054,\n",
       "       1065, 1080, 1087, 1088, 1089, 1094, 1099, 1110, 1118, 1128, 1132,\n",
       "       1144, 1155, 1159, 1160, 1162, 1168, 1169, 1176, 1185, 1190, 1198,\n",
       "       1200, 1227, 1230, 1233, 1241, 1246, 1250, 1260, 1264, 1270, 1277,\n",
       "       1280, 1291, 1293, 1297, 1302, 1303, 1304, 1305, 1315, 1331, 1341,\n",
       "       1342, 1345, 1350, 1353, 1362, 1364, 1375, 1377, 1382, 1383, 1402,\n",
       "       1406, 1407, 1418, 1423, 1427, 1428, 1434, 1436, 1437, 1440, 1444,\n",
       "       1455, 1469, 1473, 1487, 1496, 1498, 1501, 1504, 1511, 1531, 1538,\n",
       "       1540, 1553, 1555, 1559, 1565, 1566, 1568, 1569, 1572, 1573, 1575,\n",
       "       1589, 1596, 1597, 1601, 1605, 1614, 1615, 1624, 1628, 1635, 1636,\n",
       "       1645, 1647, 1654, 1655, 1656, 1657, 1678, 1680, 1684, 1686, 1696,\n",
       "       1701, 1703, 1704, 1705, 1706, 1715, 1717, 1724, 1731, 1748, 1750,\n",
       "       1755, 1763, 1769, 1771, 1774, 1776, 1777, 1783, 1791, 1796, 1804,\n",
       "       1808, 1817, 1821, 1827, 1828, 1840, 1845, 1850, 1852, 1855, 1862,\n",
       "       1865, 1869, 1874, 1877, 1888, 1892, 1897, 1901, 1904, 1914, 1921,\n",
       "       1929, 1933, 1939, 1940, 1944, 1954, 1956, 1963, 1970, 1973, 1974,\n",
       "       1976, 1978, 1983, 1989, 1990, 1991, 1996, 2000, 2002, 2003, 2004,\n",
       "       2006, 2009, 2010, 2013, 2016, 2018, 2026, 2032, 2057, 2058, 2060,\n",
       "       2077, 2086, 2102, 2103, 2107, 2108, 2114, 2126, 2128, 2132, 2146,\n",
       "       2147, 2150, 2152, 2154, 2157, 2158, 2164, 2171, 2174, 2177, 2180,\n",
       "       2182, 2185, 2193, 2194, 2201, 2202, 2203, 2204, 2205, 2207, 2212,\n",
       "       2213, 2218, 2219, 2224, 2227, 2228, 2230, 2231, 2245, 2259, 2268,\n",
       "       2274, 2279, 2287, 2296, 2297, 2303, 2308, 2310, 2313, 2319, 2322,\n",
       "       2332, 2338, 2339, 2341, 2342, 2345, 2349, 2352, 2360, 2362, 2364,\n",
       "       2367, 2375, 2381, 2383, 2391, 2401, 2413, 2418, 2420, 2423, 2424,\n",
       "       2425, 2433, 2442, 2445, 2446, 2447, 2453, 2455, 2466, 2467, 2470,\n",
       "       2471, 2473, 2477, 2478, 2481, 2487, 2495, 2496, 2498, 2530, 2538,\n",
       "       2544, 2546, 2547, 2550, 2551, 2557, 2559, 2561, 2564, 2565, 2574,\n",
       "       2575, 2578, 2589, 2592, 2597, 2598, 2599, 2614, 2618, 2626, 2627,\n",
       "       2636, 2641, 2642, 2657, 2658, 2659, 2669, 2685, 2688, 2691, 2694,\n",
       "       2698, 2699, 2705, 2707, 2708, 2711, 2716, 2731, 2740, 2742, 2752,\n",
       "       2753, 2755, 2758, 2764, 2765, 2774, 2797, 2800, 2808, 2810, 2811,\n",
       "       2824, 2829, 2830, 2831, 2838, 2843, 2844, 2846, 2850, 2851, 2852,\n",
       "       2857, 2860, 2864, 2871, 2872, 2876, 2879, 2887, 2889, 2893, 2903,\n",
       "       2907, 2926, 2932, 2933, 2934, 2942, 2952, 2953, 2956, 2965, 2969,\n",
       "       2972, 2974, 2980, 2983, 2985, 2989, 2996, 3000, 3009, 3010, 3015,\n",
       "       3019, 3022, 3028, 3033, 3038, 3039, 3043, 3046, 3051, 3053, 3059,\n",
       "       3060, 3070, 3075, 3077, 3079, 3086, 3093, 3097, 3099, 3100, 3101,\n",
       "       3103, 3108, 3117, 3119, 3129, 3130, 3131, 3134, 3147, 3164, 3167,\n",
       "       3179, 3189, 3191, 3196, 3197, 3198, 3206, 3211, 3222, 3226, 3228,\n",
       "       3232, 3249, 3250, 3259, 3260, 3263, 3264, 3265, 3268, 3275, 3285,\n",
       "       3294, 3295, 3297, 3299, 3305, 3316, 3324, 3326, 3327, 3334, 3339,\n",
       "       3340, 3349, 3350, 3372, 3377, 3383, 3386, 3387, 3404, 3406, 3407,\n",
       "       3415, 3418, 3419, 3422, 3440, 3444, 3454, 3462, 3469, 3480, 3484,\n",
       "       3486, 3490, 3508, 3510])"
      ]
     },
     "execution_count": 18,
     "metadata": {},
     "output_type": "execute_result"
    }
   ],
   "source": [
    "iface_v"
   ]
  },
  {
   "cell_type": "code",
   "execution_count": 36,
   "metadata": {},
   "outputs": [
    {
     "data": {
      "text/plain": [
       "\u001b[0;31mSignature:\u001b[0m \u001b[0mvertices_graph\u001b[0m\u001b[0;34m(\u001b[0m\u001b[0mmesh\u001b[0m\u001b[0;34m,\u001b[0m \u001b[0mweighted\u001b[0m\u001b[0;34m=\u001b[0m\u001b[0;32mFalse\u001b[0m\u001b[0;34m)\u001b[0m\u001b[0;34m\u001b[0m\u001b[0;34m\u001b[0m\u001b[0m\n",
       "\u001b[0;31mDocstring:\u001b[0m <no docstring>\n",
       "\u001b[0;31mSource:\u001b[0m   \n",
       "\u001b[0;32mdef\u001b[0m \u001b[0mvertices_graph\u001b[0m\u001b[0;34m(\u001b[0m\u001b[0mmesh\u001b[0m\u001b[0;34m,\u001b[0m \u001b[0mweighted\u001b[0m\u001b[0;34m=\u001b[0m\u001b[0;32mFalse\u001b[0m\u001b[0;34m)\u001b[0m\u001b[0;34m:\u001b[0m\u001b[0;34m\u001b[0m\n",
       "\u001b[0;34m\u001b[0m    \u001b[0;31m# Graph \u001b[0m\u001b[0;34m\u001b[0m\n",
       "\u001b[0;34m\u001b[0m    \u001b[0mG\u001b[0m \u001b[0;34m=\u001b[0m \u001b[0mnx\u001b[0m\u001b[0;34m.\u001b[0m\u001b[0mGraph\u001b[0m\u001b[0;34m(\u001b[0m\u001b[0;34m)\u001b[0m\u001b[0;34m\u001b[0m\n",
       "\u001b[0;34m\u001b[0m    \u001b[0mn\u001b[0m \u001b[0;34m=\u001b[0m \u001b[0mlen\u001b[0m\u001b[0;34m(\u001b[0m\u001b[0mmesh\u001b[0m\u001b[0;34m.\u001b[0m\u001b[0mvertices\u001b[0m\u001b[0;34m)\u001b[0m\u001b[0;34m\u001b[0m\n",
       "\u001b[0;34m\u001b[0m    \u001b[0mG\u001b[0m\u001b[0;34m.\u001b[0m\u001b[0madd_nodes_from\u001b[0m\u001b[0;34m(\u001b[0m\u001b[0mnp\u001b[0m\u001b[0;34m.\u001b[0m\u001b[0marange\u001b[0m\u001b[0;34m(\u001b[0m\u001b[0mn\u001b[0m\u001b[0;34m)\u001b[0m\u001b[0;34m)\u001b[0m\u001b[0;34m\u001b[0m\n",
       "\u001b[0;34m\u001b[0m\u001b[0;34m\u001b[0m\n",
       "\u001b[0;34m\u001b[0m    \u001b[0;31m# Get edges\u001b[0m\u001b[0;34m\u001b[0m\n",
       "\u001b[0;34m\u001b[0m    \u001b[0mf\u001b[0m \u001b[0;34m=\u001b[0m \u001b[0mnp\u001b[0m\u001b[0;34m.\u001b[0m\u001b[0marray\u001b[0m\u001b[0;34m(\u001b[0m\u001b[0mmesh\u001b[0m\u001b[0;34m.\u001b[0m\u001b[0mfaces\u001b[0m\u001b[0;34m,\u001b[0m \u001b[0mdtype\u001b[0m \u001b[0;34m=\u001b[0m \u001b[0mint\u001b[0m\u001b[0;34m)\u001b[0m\u001b[0;34m\u001b[0m\n",
       "\u001b[0;34m\u001b[0m    \u001b[0mrowi\u001b[0m \u001b[0;34m=\u001b[0m \u001b[0mnp\u001b[0m\u001b[0;34m.\u001b[0m\u001b[0mconcatenate\u001b[0m\u001b[0;34m(\u001b[0m\u001b[0;34m[\u001b[0m\u001b[0mf\u001b[0m\u001b[0;34m[\u001b[0m\u001b[0;34m:\u001b[0m\u001b[0;34m,\u001b[0m\u001b[0;36m0\u001b[0m\u001b[0;34m]\u001b[0m\u001b[0;34m,\u001b[0m \u001b[0mf\u001b[0m\u001b[0;34m[\u001b[0m\u001b[0;34m:\u001b[0m\u001b[0;34m,\u001b[0m\u001b[0;36m0\u001b[0m\u001b[0;34m]\u001b[0m\u001b[0;34m,\u001b[0m \u001b[0mf\u001b[0m\u001b[0;34m[\u001b[0m\u001b[0;34m:\u001b[0m\u001b[0;34m,\u001b[0m\u001b[0;36m1\u001b[0m\u001b[0;34m]\u001b[0m\u001b[0;34m,\u001b[0m \u001b[0mf\u001b[0m\u001b[0;34m[\u001b[0m\u001b[0;34m:\u001b[0m\u001b[0;34m,\u001b[0m\u001b[0;36m1\u001b[0m\u001b[0;34m]\u001b[0m\u001b[0;34m,\u001b[0m \u001b[0mf\u001b[0m\u001b[0;34m[\u001b[0m\u001b[0;34m:\u001b[0m\u001b[0;34m,\u001b[0m\u001b[0;36m2\u001b[0m\u001b[0;34m]\u001b[0m\u001b[0;34m,\u001b[0m \u001b[0mf\u001b[0m\u001b[0;34m[\u001b[0m\u001b[0;34m:\u001b[0m\u001b[0;34m,\u001b[0m\u001b[0;36m2\u001b[0m\u001b[0;34m]\u001b[0m\u001b[0;34m]\u001b[0m\u001b[0;34m,\u001b[0m \u001b[0maxis\u001b[0m \u001b[0;34m=\u001b[0m \u001b[0;36m0\u001b[0m\u001b[0;34m)\u001b[0m\u001b[0;34m\u001b[0m\n",
       "\u001b[0;34m\u001b[0m    \u001b[0mrowj\u001b[0m \u001b[0;34m=\u001b[0m \u001b[0mnp\u001b[0m\u001b[0;34m.\u001b[0m\u001b[0mconcatenate\u001b[0m\u001b[0;34m(\u001b[0m\u001b[0;34m[\u001b[0m\u001b[0mf\u001b[0m\u001b[0;34m[\u001b[0m\u001b[0;34m:\u001b[0m\u001b[0;34m,\u001b[0m\u001b[0;36m1\u001b[0m\u001b[0;34m]\u001b[0m\u001b[0;34m,\u001b[0m \u001b[0mf\u001b[0m\u001b[0;34m[\u001b[0m\u001b[0;34m:\u001b[0m\u001b[0;34m,\u001b[0m\u001b[0;36m2\u001b[0m\u001b[0;34m]\u001b[0m\u001b[0;34m,\u001b[0m \u001b[0mf\u001b[0m\u001b[0;34m[\u001b[0m\u001b[0;34m:\u001b[0m\u001b[0;34m,\u001b[0m\u001b[0;36m0\u001b[0m\u001b[0;34m]\u001b[0m\u001b[0;34m,\u001b[0m \u001b[0mf\u001b[0m\u001b[0;34m[\u001b[0m\u001b[0;34m:\u001b[0m\u001b[0;34m,\u001b[0m\u001b[0;36m2\u001b[0m\u001b[0;34m]\u001b[0m\u001b[0;34m,\u001b[0m \u001b[0mf\u001b[0m\u001b[0;34m[\u001b[0m\u001b[0;34m:\u001b[0m\u001b[0;34m,\u001b[0m\u001b[0;36m0\u001b[0m\u001b[0;34m]\u001b[0m\u001b[0;34m,\u001b[0m \u001b[0mf\u001b[0m\u001b[0;34m[\u001b[0m\u001b[0;34m:\u001b[0m\u001b[0;34m,\u001b[0m\u001b[0;36m1\u001b[0m\u001b[0;34m]\u001b[0m\u001b[0;34m]\u001b[0m\u001b[0;34m,\u001b[0m \u001b[0maxis\u001b[0m \u001b[0;34m=\u001b[0m \u001b[0;36m0\u001b[0m\u001b[0;34m)\u001b[0m\u001b[0;34m\u001b[0m\n",
       "\u001b[0;34m\u001b[0m\u001b[0;34m\u001b[0m\n",
       "\u001b[0;34m\u001b[0m    \u001b[0;32mif\u001b[0m\u001b[0;34m(\u001b[0m\u001b[0mweighted\u001b[0m\u001b[0;34m)\u001b[0m\u001b[0;34m:\u001b[0m\u001b[0;34m\u001b[0m\n",
       "\u001b[0;34m\u001b[0m        \u001b[0;31m#verts = mesh.vertices\u001b[0m\u001b[0;34m\u001b[0m\n",
       "\u001b[0;34m\u001b[0m        \u001b[0;31m# Get weights \u001b[0m\u001b[0;34m\u001b[0m\n",
       "\u001b[0;34m\u001b[0m        \u001b[0medgew\u001b[0m \u001b[0;34m=\u001b[0m \u001b[0mmesh\u001b[0m\u001b[0;34m.\u001b[0m\u001b[0mvertices\u001b[0m\u001b[0;34m[\u001b[0m\u001b[0mrowi\u001b[0m\u001b[0;34m]\u001b[0m \u001b[0;34m-\u001b[0m \u001b[0mmesh\u001b[0m\u001b[0;34m.\u001b[0m\u001b[0mvertices\u001b[0m\u001b[0;34m[\u001b[0m\u001b[0mrowj\u001b[0m\u001b[0;34m]\u001b[0m\u001b[0;34m\u001b[0m\n",
       "\u001b[0;34m\u001b[0m        \u001b[0medgew\u001b[0m \u001b[0;34m=\u001b[0m \u001b[0mscipy\u001b[0m\u001b[0;34m.\u001b[0m\u001b[0mlinalg\u001b[0m\u001b[0;34m.\u001b[0m\u001b[0mnorm\u001b[0m\u001b[0;34m(\u001b[0m\u001b[0medgew\u001b[0m\u001b[0;34m,\u001b[0m \u001b[0maxis\u001b[0m\u001b[0;34m=\u001b[0m\u001b[0;36m1\u001b[0m\u001b[0;34m)\u001b[0m\u001b[0;34m\u001b[0m\n",
       "\u001b[0;34m\u001b[0m        \u001b[0mwedges\u001b[0m \u001b[0;34m=\u001b[0m \u001b[0mnp\u001b[0m\u001b[0;34m.\u001b[0m\u001b[0mstack\u001b[0m\u001b[0;34m(\u001b[0m\u001b[0;34m[\u001b[0m\u001b[0mrowi\u001b[0m\u001b[0;34m,\u001b[0m \u001b[0mrowj\u001b[0m\u001b[0;34m,\u001b[0m \u001b[0medgew\u001b[0m\u001b[0;34m]\u001b[0m\u001b[0;34m)\u001b[0m\u001b[0;34m.\u001b[0m\u001b[0mT\u001b[0m\u001b[0;34m\u001b[0m\n",
       "\u001b[0;34m\u001b[0m        \u001b[0mG\u001b[0m\u001b[0;34m.\u001b[0m\u001b[0madd_weighted_edges_from\u001b[0m\u001b[0;34m(\u001b[0m\u001b[0mwedges\u001b[0m\u001b[0;34m)\u001b[0m\u001b[0;34m\u001b[0m\n",
       "\u001b[0;34m\u001b[0m        \u001b[0;32mreturn\u001b[0m \u001b[0mG\u001b[0m\u001b[0;34m,\u001b[0m \u001b[0mwedges\u001b[0m\u001b[0;34m\u001b[0m\n",
       "\u001b[0;34m\u001b[0m    \u001b[0;32melse\u001b[0m\u001b[0;34m:\u001b[0m\u001b[0;34m\u001b[0m\n",
       "\u001b[0;34m\u001b[0m        \u001b[0medges\u001b[0m \u001b[0;34m=\u001b[0m \u001b[0mnp\u001b[0m\u001b[0;34m.\u001b[0m\u001b[0mstack\u001b[0m\u001b[0;34m(\u001b[0m\u001b[0;34m[\u001b[0m\u001b[0mrowi\u001b[0m\u001b[0;34m,\u001b[0m \u001b[0mrowj\u001b[0m\u001b[0;34m]\u001b[0m\u001b[0;34m)\u001b[0m\u001b[0;34m.\u001b[0m\u001b[0mT\u001b[0m\u001b[0;34m\u001b[0m\n",
       "\u001b[0;34m\u001b[0m        \u001b[0mG\u001b[0m\u001b[0;34m.\u001b[0m\u001b[0madd_edges_from\u001b[0m\u001b[0;34m(\u001b[0m\u001b[0medges\u001b[0m\u001b[0;34m)\u001b[0m\u001b[0;34m\u001b[0m\n",
       "\u001b[0;34m\u001b[0m        \u001b[0;32mreturn\u001b[0m \u001b[0mG\u001b[0m\u001b[0;34m,\u001b[0m \u001b[0medges\u001b[0m\u001b[0;34m\u001b[0m\u001b[0;34m\u001b[0m\u001b[0m\n",
       "\u001b[0;31mFile:\u001b[0m      ~/masif/source/geometry/vertices_graph.py\n",
       "\u001b[0;31mType:\u001b[0m      function\n"
      ]
     },
     "metadata": {},
     "output_type": "display_data"
    }
   ],
   "source": [
    "#vertices_graph??"
   ]
  },
  {
   "cell_type": "code",
   "execution_count": null,
   "metadata": {},
   "outputs": [],
   "source": []
  }
 ],
 "metadata": {
  "kernelspec": {
   "display_name": "masif_env",
   "language": "python",
   "name": "masif_env"
  },
  "language_info": {
   "codemirror_mode": {
    "name": "ipython",
    "version": 3
   },
   "file_extension": ".py",
   "mimetype": "text/x-python",
   "name": "python",
   "nbconvert_exporter": "python",
   "pygments_lexer": "ipython3",
   "version": "3.6.10"
  }
 },
 "nbformat": 4,
 "nbformat_minor": 4
}
