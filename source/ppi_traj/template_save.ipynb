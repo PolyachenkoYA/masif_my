{
 "cells": [
  {
   "cell_type": "code",
   "execution_count": 7,
   "metadata": {},
   "outputs": [],
   "source": [
    "import numpy as np\n",
    "import pandas as pd\n",
    "import mdtraj as md\n",
    "import parmed as pmd\n",
    "import matplotlib.pyplot as plt\n",
    "\n",
    "import mdtraj_utils as mdu"
   ]
  },
  {
   "cell_type": "markdown",
   "metadata": {},
   "source": [
    "## Input parameters"
   ]
  },
  {
   "cell_type": "markdown",
   "metadata": {},
   "source": [
    "PDB Ids: 1AK4, 1CGI, 1E96, 1FLE, 1GPW, 1JTG, 1R0R, 1R6Q, 1RKE, 1Z0K, 1ZHH, 2HQS, 2I25, 2O3B, 2OOB, 3F1P\n",
    "\n",
    "MD Ids:\n",
    "* uR: unbound conformation of the receptor\n",
    "* uL: unbound conformation of the ligand\n",
    "* C: structure of the bound complex (R+L)\n",
    "* bR: bound conformation of the receptor taken from the structure of the complex (C)\n",
    "* bL: bound conformation of the ligand taken from the structure of the complex (C)\n",
    "* sepB: seperatated (~10A) complex\n",
    "* sepU: seperatated (~10A) complex but swaping the subunits with the unbound conformations"
   ]
  },
  {
   "cell_type": "code",
   "execution_count": 8,
   "metadata": {},
   "outputs": [],
   "source": [
    "pdb_id = \"1Z0K\"\n",
    "md_id = \"uR\""
   ]
  },
  {
   "cell_type": "markdown",
   "metadata": {},
   "source": [
    "## Load data"
   ]
  },
  {
   "cell_type": "code",
   "execution_count": 9,
   "metadata": {},
   "outputs": [],
   "source": [
    "# setup data connector\n",
    "dc = mdu.data.DataConnector(\"database\", safe=True)"
   ]
  },
  {
   "cell_type": "code",
   "execution_count": 10,
   "metadata": {},
   "outputs": [],
   "source": [
    "struct_list = [\"uR\", \"uL\", \"bR\", \"bL\", \"C\", \"sepB\", \"sepU\"]\n",
    "struct_list = ['uR', 'bR']\n",
    "\n",
    "# load all reference structures\n",
    "for md_id in struct_list:\n",
    "    dc.load_reference(pdb_id, md_id)\n",
    "\n",
    "# load trajectories\n",
    "for md_id in struct_list:\n",
    "    dc.load_trajectory(pdb_id, md_id)\n",
    "    \n",
    "# load data\n",
    "for md_id in struct_list:\n",
    "    for msr_name in [p.split(\"/\")[-1].replace(\"_data.npy\", \"\") for p in dc.find_data(pdb_id, md_id, \"rmsd*\")]:\n",
    "        dc.load_data(pdb_id, md_id, msr_name)"
   ]
  },
  {
   "cell_type": "code",
   "execution_count": 11,
   "metadata": {},
   "outputs": [
    {
     "data": {
      "text/plain": [
       "{'uR': {'traj_ref': <mdtraj.Trajectory with 1 frames, 2736 atoms, 171 residues, and unitcells at 0x7f7d0c73a410>,\n",
       "  'info': {'pdbid': '1Z0K',\n",
       "   'mdid': 'uR',\n",
       "   'rid': '1',\n",
       "   'prmtop_filepath': 'raw_data/data/rep1/1Z0K/uR/prmtop',\n",
       "   'inpcrd_filepath': 'raw_data/data/rep1/1Z0K/uR/inpcrd',\n",
       "   'MODIFIED': '2020-07-08_09:58:47'},\n",
       "  'traj': <mdtraj.Trajectory with 50101 frames, 2736 atoms, 171 residues, and unitcells at 0x7f7d083942d0>,\n",
       "  'rmsd_uR': array([8.2018488e-07, 1.9965371e-01, 2.0106556e-01, ..., 8.8930315e-01,\n",
       "         9.3387693e-01, 9.6816409e-01], dtype=float32),\n",
       "  'rmsd_bR': array([0.80277145, 0.81392145, 0.84246093, ..., 0.97885543, 1.0148724 ,\n",
       "         1.0094463 ], dtype=float32)}}"
      ]
     },
     "execution_count": 11,
     "metadata": {},
     "output_type": "execute_result"
    }
   ],
   "source": [
    "dc[pdb_id]"
   ]
  },
  {
   "cell_type": "code",
   "execution_count": null,
   "metadata": {},
   "outputs": [],
   "source": []
  },
  {
   "cell_type": "code",
   "execution_count": null,
   "metadata": {},
   "outputs": [],
   "source": []
  },
  {
   "cell_type": "code",
   "execution_count": null,
   "metadata": {},
   "outputs": [],
   "source": []
  }
 ],
 "metadata": {
  "kernelspec": {
   "display_name": "Python 3",
   "language": "python",
   "name": "python3"
  },
  "language_info": {
   "codemirror_mode": {
    "name": "ipython",
    "version": 3
   },
   "file_extension": ".py",
   "mimetype": "text/x-python",
   "name": "python",
   "nbconvert_exporter": "python",
   "pygments_lexer": "ipython3",
   "version": "3.7.6"
  }
 },
 "nbformat": 4,
 "nbformat_minor": 4
}
